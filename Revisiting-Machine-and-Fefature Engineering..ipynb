{
 "cells": [
  {
   "cell_type": "code",
   "execution_count": 11,
   "id": "4d5f86f2",
   "metadata": {},
   "outputs": [],
   "source": [
    "import pandas as pd\n",
    "\n",
    "data = pd.read_csv('learningSet.csv', dtype=str)\n",
    "\n",
    "null_counts = data.isnull().sum()\n",
    "\n",
    "drop_list = []\n",
    "\n",
    "drop_list.extend(['OSOURCE', 'ZIP'])\n",
    "\n",
    "missing_percent = (data.isnull().sum() / len(data)) * 100\n",
    "columns_to_drop = missing_percent[missing_percent > 85].index\n",
    "\n",
    "drop_list.extend(columns_to_drop)\n",
    "\n",
    "data = data.drop(columns=drop_list)\n",
    "\n",
    "categorical = data[['GENDER']].copy()\n",
    "\n",
    "categorical['GENDER'] = categorical['GENDER'].fillna('F')\n",
    "categorical['GENDER'] = categorical['GENDER'].apply(lambda x: 'other' if x not in ['M', 'F'] else x)\n",
    "\n",
    "data['GENDER'] = categorical['GENDER']\n"
   ]
  },
  {
   "cell_type": "code",
   "execution_count": 12,
   "id": "bbc09682",
   "metadata": {},
   "outputs": [
    {
     "name": "stdout",
     "output_type": "stream",
     "text": [
      "WEALTH1    44732\n",
      "ADI          132\n",
      "DMA          132\n",
      "MSA          132\n",
      "dtype: int64\n"
     ]
    }
   ],
   "source": [
    "\n",
    "numerical_columns = ['WEALTH1', 'ADI', 'DMA', 'MSA']\n",
    "\n",
    "\n",
    "numerical_null_counts = data[numerical_columns].isnull().sum()\n",
    "print(numerical_null_counts)"
   ]
  },
  {
   "cell_type": "code",
   "execution_count": 13,
   "id": "5897be2b",
   "metadata": {},
   "outputs": [],
   "source": [
    "\n",
    "most_common_geocode2 = data['GEOCODE2'].mode()[0]\n",
    "data['GEOCODE2'].fillna(most_common_geocode2, inplace=True)\n"
   ]
  },
  {
   "cell_type": "code",
   "execution_count": 14,
   "id": "3578b6a3",
   "metadata": {},
   "outputs": [],
   "source": [
    "\n",
    "median_wealth1 = data['WEALTH1'].median()\n",
    "data['WEALTH1'].fillna(median_wealth1, inplace=True)\n",
    "\n",
    "median_adi = data['ADI'].median()\n",
    "data['ADI'].fillna(median_adi, inplace=True)\n",
    "\n",
    "median_dma = data['DMA'].median()\n",
    "data['DMA'].fillna(median_dma, inplace=True)\n",
    "\n",
    "median_msa = data['MSA'].median()\n",
    "data['MSA'].fillna(median_msa, inplace=True)\n"
   ]
  },
  {
   "cell_type": "code",
   "execution_count": null,
   "id": "ba6eeb58",
   "metadata": {},
   "outputs": [],
   "source": []
  }
 ],
 "metadata": {
  "kernelspec": {
   "display_name": "IRON_HACK",
   "language": "python",
   "name": "iron_hack"
  },
  "language_info": {
   "codemirror_mode": {
    "name": "ipython",
    "version": 3
   },
   "file_extension": ".py",
   "mimetype": "text/x-python",
   "name": "python",
   "nbconvert_exporter": "python",
   "pygments_lexer": "ipython3",
   "version": "3.9.16"
  }
 },
 "nbformat": 4,
 "nbformat_minor": 5
}
